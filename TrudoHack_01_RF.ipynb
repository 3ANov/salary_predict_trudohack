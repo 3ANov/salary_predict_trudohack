{
  "nbformat": 4,
  "nbformat_minor": 0,
  "metadata": {
    "colab": {
      "name": "TrudoHack_01_RF.ipynb",
      "provenance": [],
      "collapsed_sections": [],
      "machine_shape": "hm"
    },
    "kernelspec": {
      "name": "python3",
      "display_name": "Python 3"
    }
  },
  "cells": [
    {
      "cell_type": "code",
      "metadata": {
        "id": "PHVDgEags799",
        "colab_type": "code",
        "colab": {}
      },
      "source": [
        "import pandas as pd\n",
        "import numpy as np\n",
        "from tqdm.notebook import tqdm\n",
        "from sklearn import metrics\n",
        "from sklearn.model_selection import train_test_split\n",
        "from sklearn.feature_extraction.text import TfidfVectorizer\n",
        "from sklearn.pipeline import Pipeline\n",
        "import re\n",
        "from sklearn.ensemble import RandomForestRegressor\n",
        "RS=42\n"
      ],
      "execution_count": 1,
      "outputs": []
    },
    {
      "cell_type": "code",
      "metadata": {
        "id": "PV-_JrPlZSpK",
        "colab_type": "code",
        "colab": {
          "base_uri": "https://localhost:8080/",
          "height": 121
        },
        "outputId": "337f5746-327a-41af-edc3-3a4ac16444d4"
      },
      "source": [
        "# подключаем гугл диск на котором данные\n",
        "from google.colab import drive\n",
        "drive.mount ('/content/gdrive', force_remount = True)"
      ],
      "execution_count": 2,
      "outputs": [
        {
          "output_type": "stream",
          "text": [
            "Go to this URL in a browser: https://accounts.google.com/o/oauth2/auth?client_id=947318989803-6bn6qk8qdgf4n4g3pfee6491hc0brc4i.apps.googleusercontent.com&redirect_uri=urn%3aietf%3awg%3aoauth%3a2.0%3aoob&response_type=code&scope=email%20https%3a%2f%2fwww.googleapis.com%2fauth%2fdocs.test%20https%3a%2f%2fwww.googleapis.com%2fauth%2fdrive%20https%3a%2f%2fwww.googleapis.com%2fauth%2fdrive.photos.readonly%20https%3a%2f%2fwww.googleapis.com%2fauth%2fpeopleapi.readonly\n",
            "\n",
            "Enter your authorization code:\n",
            "··········\n",
            "Mounted at /content/gdrive\n"
          ],
          "name": "stdout"
        }
      ]
    },
    {
      "cell_type": "code",
      "metadata": {
        "id": "DgoGyg4UZUr9",
        "colab_type": "code",
        "colab": {
          "base_uri": "https://localhost:8080/",
          "height": 34
        },
        "outputId": "d4703837-07a2-4dfd-d663-831b342ab59b"
      },
      "source": [
        "!ls /content/gdrive/'My Drive'/dataset_trud/"
      ],
      "execution_count": 3,
      "outputs": [
        {
          "output_type": "stream",
          "text": [
            "vacs_train.csv\tописание-2.xlsx\n"
          ],
          "name": "stdout"
        }
      ]
    },
    {
      "cell_type": "code",
      "metadata": {
        "id": "2qQds26iRuNM",
        "colab_type": "code",
        "colab": {
          "base_uri": "https://localhost:8080/",
          "height": 1000
        },
        "outputId": "cf38edbb-f266-4088-8f0c-c254d269bfc5"
      },
      "source": [
        "df_salaries500k = pd.read_csv('../content/gdrive/My Drive/dataset_trud/vacs_train.csv',sep=';')\n",
        "\n",
        "df_salaries500k.head(20)\n"
      ],
      "execution_count": 4,
      "outputs": [
        {
          "output_type": "execute_result",
          "data": {
            "text/html": [
              "<div>\n",
              "<style scoped>\n",
              "    .dataframe tbody tr th:only-of-type {\n",
              "        vertical-align: middle;\n",
              "    }\n",
              "\n",
              "    .dataframe tbody tr th {\n",
              "        vertical-align: top;\n",
              "    }\n",
              "\n",
              "    .dataframe thead th {\n",
              "        text-align: right;\n",
              "    }\n",
              "</style>\n",
              "<table border=\"1\" class=\"dataframe\">\n",
              "  <thead>\n",
              "    <tr style=\"text-align: right;\">\n",
              "      <th></th>\n",
              "      <th>index</th>\n",
              "      <th>id</th>\n",
              "      <th>name</th>\n",
              "      <th>name.lemm</th>\n",
              "      <th>area.name</th>\n",
              "      <th>city</th>\n",
              "      <th>company.id</th>\n",
              "      <th>company</th>\n",
              "      <th>company_link</th>\n",
              "      <th>publication_date</th>\n",
              "      <th>salary_from</th>\n",
              "      <th>salary_currency</th>\n",
              "      <th>employment</th>\n",
              "      <th>employment.name</th>\n",
              "      <th>schedule</th>\n",
              "      <th>schedule.name</th>\n",
              "      <th>experience</th>\n",
              "      <th>experience.name</th>\n",
              "      <th>key_skills</th>\n",
              "      <th>specializations</th>\n",
              "      <th>specializations.names</th>\n",
              "      <th>description</th>\n",
              "      <th>description.lemm</th>\n",
              "      <th>type</th>\n",
              "    </tr>\n",
              "  </thead>\n",
              "  <tbody>\n",
              "    <tr>\n",
              "      <th>0</th>\n",
              "      <td>0</td>\n",
              "      <td>17686451</td>\n",
              "      <td>Менеджер по туризму</td>\n",
              "      <td>менеджер туризм</td>\n",
              "      <td>Санкт-Петербург</td>\n",
              "      <td>Санкт-Петербург</td>\n",
              "      <td>605490</td>\n",
              "      <td>007, центр услуг</td>\n",
              "      <td>https://hh.ru/employer/605490</td>\n",
              "      <td>2016-08-21T14:52:35+0300</td>\n",
              "      <td>40000.0</td>\n",
              "      <td>RUR</td>\n",
              "      <td>full</td>\n",
              "      <td>Полная занятость</td>\n",
              "      <td>fullDay</td>\n",
              "      <td>Полный день</td>\n",
              "      <td>between1And3</td>\n",
              "      <td>От 1 года до 3 лет</td>\n",
              "      <td>NaN</td>\n",
              "      <td>17.334 17.242 17.149 22.223 22.39 22.199</td>\n",
              "      <td>Продажи - Услуги для населения | Продажи - Пря...</td>\n",
              "      <td>Обязанности:  Работа с туристами (физические и...</td>\n",
              "      <td>обязанность работа турист физический юридическ...</td>\n",
              "      <td>train</td>\n",
              "    </tr>\n",
              "    <tr>\n",
              "      <th>1</th>\n",
              "      <td>1</td>\n",
              "      <td>17840390</td>\n",
              "      <td>Помощник руководителя</td>\n",
              "      <td>помощник руководитель</td>\n",
              "      <td>Санкт-Петербург</td>\n",
              "      <td>unknown</td>\n",
              "      <td>605490</td>\n",
              "      <td>007, центр услуг</td>\n",
              "      <td>https://hh.ru/employer/605490</td>\n",
              "      <td>2016-08-21T14:28:29+0300</td>\n",
              "      <td>40000.0</td>\n",
              "      <td>RUR</td>\n",
              "      <td>full</td>\n",
              "      <td>Полная занятость</td>\n",
              "      <td>fullDay</td>\n",
              "      <td>Полный день</td>\n",
              "      <td>between1And3</td>\n",
              "      <td>От 1 года до 3 лет</td>\n",
              "      <td>NaN</td>\n",
              "      <td>4.205 4.429 6.319 6.247 2.249</td>\n",
              "      <td>Административный персонал - Персональный ассис...</td>\n",
              "      <td>Вакансия открыта в рамках отдела строительно-о...</td>\n",
              "      <td>вакансия открывать рамка отдел строительный от...</td>\n",
              "      <td>train</td>\n",
              "    </tr>\n",
              "    <tr>\n",
              "      <th>2</th>\n",
              "      <td>3</td>\n",
              "      <td>17665840</td>\n",
              "      <td>Аналитик</td>\n",
              "      <td>аналитик</td>\n",
              "      <td>Санкт-Петербург</td>\n",
              "      <td>unknown</td>\n",
              "      <td>605490</td>\n",
              "      <td>007, центр услуг</td>\n",
              "      <td>https://hh.ru/employer/605490</td>\n",
              "      <td>2016-08-19T11:57:57+0300</td>\n",
              "      <td>30000.0</td>\n",
              "      <td>RUR</td>\n",
              "      <td>full</td>\n",
              "      <td>Полная занятость</td>\n",
              "      <td>fullDay</td>\n",
              "      <td>Полный день</td>\n",
              "      <td>between1And3</td>\n",
              "      <td>От 1 года до 3 лет</td>\n",
              "      <td>NaN</td>\n",
              "      <td>1.117 1.327 1.25</td>\n",
              "      <td>Информационные технологии, интернет, телеком -...</td>\n",
              "      <td>Обязанности:  Работа в рамках отдела корпорати...</td>\n",
              "      <td>обязанность работа рамка отдел корпоративный п...</td>\n",
              "      <td>train</td>\n",
              "    </tr>\n",
              "    <tr>\n",
              "      <th>3</th>\n",
              "      <td>4</td>\n",
              "      <td>17914658</td>\n",
              "      <td>Авиакассир</td>\n",
              "      <td>авиакассир</td>\n",
              "      <td>Санкт-Петербург</td>\n",
              "      <td>Санкт-Петербург</td>\n",
              "      <td>605490</td>\n",
              "      <td>007, центр услуг</td>\n",
              "      <td>https://hh.ru/employer/605490</td>\n",
              "      <td>2016-07-29T16:17:47+0300</td>\n",
              "      <td>30000.0</td>\n",
              "      <td>RUR</td>\n",
              "      <td>full</td>\n",
              "      <td>Полная занятость</td>\n",
              "      <td>shift</td>\n",
              "      <td>Сменный график</td>\n",
              "      <td>between1And3</td>\n",
              "      <td>От 1 года до 3 лет</td>\n",
              "      <td>NaN</td>\n",
              "      <td>22.11 21.12 17.334</td>\n",
              "      <td>Туризм, гостиницы, рестораны - Авиабилеты | Тр...</td>\n",
              "      <td>Обязанности:  Бронирование и выписка авиабилет...</td>\n",
              "      <td>обязанность бронирование выписка авиабилет сис...</td>\n",
              "      <td>train</td>\n",
              "    </tr>\n",
              "    <tr>\n",
              "      <th>4</th>\n",
              "      <td>5</td>\n",
              "      <td>17665632</td>\n",
              "      <td>Бухгалтер</td>\n",
              "      <td>бухгалтер</td>\n",
              "      <td>Санкт-Петербург</td>\n",
              "      <td>Санкт-Петербург</td>\n",
              "      <td>605490</td>\n",
              "      <td>007, центр услуг</td>\n",
              "      <td>https://hh.ru/employer/605490</td>\n",
              "      <td>2016-07-18T15:39:05+0300</td>\n",
              "      <td>25000.0</td>\n",
              "      <td>RUR</td>\n",
              "      <td>full</td>\n",
              "      <td>Полная занятость</td>\n",
              "      <td>fullDay</td>\n",
              "      <td>Полный день</td>\n",
              "      <td>between3And6</td>\n",
              "      <td>От 3 до 6 лет</td>\n",
              "      <td>NaN</td>\n",
              "      <td>2.43 2.335 2.463 2.337 2.469 5.42</td>\n",
              "      <td>Бухгалтерия, управленческий учет, финансы пред...</td>\n",
              "      <td>Обязанности:  Ведение бухгалтерского и налогов...</td>\n",
              "      <td>обязанность ведение бухгалтерский налоговый уч...</td>\n",
              "      <td>train</td>\n",
              "    </tr>\n",
              "    <tr>\n",
              "      <th>5</th>\n",
              "      <td>6</td>\n",
              "      <td>17118641</td>\n",
              "      <td>Web-программист</td>\n",
              "      <td>Web программист</td>\n",
              "      <td>Санкт-Петербург</td>\n",
              "      <td>Санкт-Петербург</td>\n",
              "      <td>605490</td>\n",
              "      <td>007, центр услуг</td>\n",
              "      <td>https://hh.ru/employer/605490</td>\n",
              "      <td>2016-06-15T11:46:59+0300</td>\n",
              "      <td>45000.0</td>\n",
              "      <td>RUR</td>\n",
              "      <td>full</td>\n",
              "      <td>Полная занятость</td>\n",
              "      <td>fullDay</td>\n",
              "      <td>Полный день</td>\n",
              "      <td>between1And3</td>\n",
              "      <td>От 1 года до 3 лет</td>\n",
              "      <td>NaN</td>\n",
              "      <td>1.221 1.273 1.420 1.9 1.10</td>\n",
              "      <td>Информационные технологии, интернет, телеком -...</td>\n",
              "      <td>Обязанности:  разработка сайтов компании; инте...</td>\n",
              "      <td>обязанность разработка сайт компания интеграци...</td>\n",
              "      <td>train</td>\n",
              "    </tr>\n",
              "    <tr>\n",
              "      <th>6</th>\n",
              "      <td>7</td>\n",
              "      <td>16795167</td>\n",
              "      <td>Бухгалтер</td>\n",
              "      <td>бухгалтер</td>\n",
              "      <td>Санкт-Петербург</td>\n",
              "      <td>Санкт-Петербург</td>\n",
              "      <td>605490</td>\n",
              "      <td>007, центр услуг</td>\n",
              "      <td>https://hh.ru/employer/605490</td>\n",
              "      <td>2016-06-03T11:05:46+0300</td>\n",
              "      <td>25000.0</td>\n",
              "      <td>RUR</td>\n",
              "      <td>full</td>\n",
              "      <td>Полная занятость</td>\n",
              "      <td>fullDay</td>\n",
              "      <td>Полный день</td>\n",
              "      <td>between3And6</td>\n",
              "      <td>От 3 до 6 лет</td>\n",
              "      <td>NaN</td>\n",
              "      <td>2.43 2.335 2.463 2.337 2.469 5.42</td>\n",
              "      <td>Бухгалтерия, управленческий учет, финансы пред...</td>\n",
              "      <td>Обязанности:  Ведение бухгалтерского и налогов...</td>\n",
              "      <td>обязанность ведение бухгалтерский налоговый уч...</td>\n",
              "      <td>train</td>\n",
              "    </tr>\n",
              "    <tr>\n",
              "      <th>7</th>\n",
              "      <td>8</td>\n",
              "      <td>17274713</td>\n",
              "      <td>Менеджер по туризму</td>\n",
              "      <td>менеджер туризм</td>\n",
              "      <td>Санкт-Петербург</td>\n",
              "      <td>Санкт-Петербург</td>\n",
              "      <td>605490</td>\n",
              "      <td>007, центр услуг</td>\n",
              "      <td>https://hh.ru/employer/605490</td>\n",
              "      <td>2016-06-02T14:30:41+0300</td>\n",
              "      <td>30000.0</td>\n",
              "      <td>RUR</td>\n",
              "      <td>full</td>\n",
              "      <td>Полная занятость</td>\n",
              "      <td>fullDay</td>\n",
              "      <td>Полный день</td>\n",
              "      <td>between1And3</td>\n",
              "      <td>От 1 года до 3 лет</td>\n",
              "      <td>NaN</td>\n",
              "      <td>22.223 22.39 22.199 17.242 17.149</td>\n",
              "      <td>Туризм, гостиницы, рестораны - Продажа туристи...</td>\n",
              "      <td>Обязанности:  прием заявок от корпоративных кл...</td>\n",
              "      <td>обязанность прием заявка корпоративный клиент ...</td>\n",
              "      <td>train</td>\n",
              "    </tr>\n",
              "    <tr>\n",
              "      <th>8</th>\n",
              "      <td>9</td>\n",
              "      <td>17257258</td>\n",
              "      <td>Прораб отделочных работ</td>\n",
              "      <td>прораб отделочный работа</td>\n",
              "      <td>Санкт-Петербург</td>\n",
              "      <td>unknown</td>\n",
              "      <td>605490</td>\n",
              "      <td>007, центр услуг</td>\n",
              "      <td>https://hh.ru/employer/605490</td>\n",
              "      <td>2016-06-01T11:58:44+0300</td>\n",
              "      <td>40000.0</td>\n",
              "      <td>RUR</td>\n",
              "      <td>full</td>\n",
              "      <td>Полная занятость</td>\n",
              "      <td>flexible</td>\n",
              "      <td>Гибкий график</td>\n",
              "      <td>between3And6</td>\n",
              "      <td>От 3 до 6 лет</td>\n",
              "      <td>Ответственность | Коммуникабельность</td>\n",
              "      <td>20.287 20.387</td>\n",
              "      <td>Строительство, недвижимость - Строительство | ...</td>\n",
              "      <td>Обязанности:  Составление сметы по ремонтно-от...</td>\n",
              "      <td>обязанность составление смета ремонтный отдело...</td>\n",
              "      <td>train</td>\n",
              "    </tr>\n",
              "    <tr>\n",
              "      <th>9</th>\n",
              "      <td>10</td>\n",
              "      <td>17878663</td>\n",
              "      <td>Продавец- консультант обуви</td>\n",
              "      <td>продавец консультант обувь</td>\n",
              "      <td>Санкт-Петербург</td>\n",
              "      <td>unknown</td>\n",
              "      <td>1327757</td>\n",
              "      <td>1000 и одна туфелька (Герасимов О. Ю., ИП)</td>\n",
              "      <td>https://hh.ru/employer/1327757</td>\n",
              "      <td>2016-08-25T17:58:33+0300</td>\n",
              "      <td>27000.0</td>\n",
              "      <td>RUR</td>\n",
              "      <td>full</td>\n",
              "      <td>Полная занятость</td>\n",
              "      <td>shift</td>\n",
              "      <td>Сменный график</td>\n",
              "      <td>between1And3</td>\n",
              "      <td>От 1 года до 3 лет</td>\n",
              "      <td>Консультативные продажи | Активные продажи | 1...</td>\n",
              "      <td>17.256 17.149 17.183 17.535 17.520 2.102</td>\n",
              "      <td>Продажи - Розничная торговля | Продажи - Менед...</td>\n",
              "      <td>В сеть магазинов детской и подростковой обуви ...</td>\n",
              "      <td>сеть магазин детский подростковый обувь туфель...</td>\n",
              "      <td>train</td>\n",
              "    </tr>\n",
              "    <tr>\n",
              "      <th>10</th>\n",
              "      <td>11</td>\n",
              "      <td>17859408</td>\n",
              "      <td>Технолог по обуви/  менеджер по качеству обуви</td>\n",
              "      <td>технолог обувь менеджер качество обувь</td>\n",
              "      <td>Санкт-Петербург</td>\n",
              "      <td>Санкт-Петербург</td>\n",
              "      <td>1327757</td>\n",
              "      <td>1000 и одна туфелька (Герасимов О. Ю., ИП)</td>\n",
              "      <td>https://hh.ru/employer/1327757</td>\n",
              "      <td>2016-07-25T14:23:34+0300</td>\n",
              "      <td>35000.0</td>\n",
              "      <td>RUR</td>\n",
              "      <td>full</td>\n",
              "      <td>Полная занятость</td>\n",
              "      <td>fullDay</td>\n",
              "      <td>Полный день</td>\n",
              "      <td>between1And3</td>\n",
              "      <td>От 1 года до 3 лет</td>\n",
              "      <td>NaN</td>\n",
              "      <td>18.118 18.297</td>\n",
              "      <td>Производство - Контроль качества | Производств...</td>\n",
              "      <td>Обязанности: - Организация работы по предпрода...</td>\n",
              "      <td>обязанность организация работа предпродажный п...</td>\n",
              "      <td>train</td>\n",
              "    </tr>\n",
              "    <tr>\n",
              "      <th>11</th>\n",
              "      <td>12</td>\n",
              "      <td>17859099</td>\n",
              "      <td>Водитель-экспедитор</td>\n",
              "      <td>водитель экспедитор</td>\n",
              "      <td>Санкт-Петербург</td>\n",
              "      <td>unknown</td>\n",
              "      <td>1327757</td>\n",
              "      <td>1000 и одна туфелька (Герасимов О. Ю., ИП)</td>\n",
              "      <td>https://hh.ru/employer/1327757</td>\n",
              "      <td>2016-07-25T14:10:58+0300</td>\n",
              "      <td>35000.0</td>\n",
              "      <td>RUR</td>\n",
              "      <td>full</td>\n",
              "      <td>Полная занятость</td>\n",
              "      <td>fullDay</td>\n",
              "      <td>Полный день</td>\n",
              "      <td>between3And6</td>\n",
              "      <td>От 3 до 6 лет</td>\n",
              "      <td>NaN</td>\n",
              "      <td>21.17 21.482 21.506</td>\n",
              "      <td>Транспорт, логистика - Автоперевозки | Транспо...</td>\n",
              "      <td>Обязанности: - Развозить товар по маршруту; - ...</td>\n",
              "      <td>обязанность развозить товар маршрут забирать г...</td>\n",
              "      <td>train</td>\n",
              "    </tr>\n",
              "    <tr>\n",
              "      <th>12</th>\n",
              "      <td>13</td>\n",
              "      <td>17764390</td>\n",
              "      <td>Слесарь МСР</td>\n",
              "      <td>слесарь МСР</td>\n",
              "      <td>Санкт-Петербург</td>\n",
              "      <td>unknown</td>\n",
              "      <td>735232</td>\n",
              "      <td>1000 КАДРОВ</td>\n",
              "      <td>https://hh.ru/employer/735232</td>\n",
              "      <td>2016-07-15T17:22:12+0300</td>\n",
              "      <td>40000.0</td>\n",
              "      <td>RUR</td>\n",
              "      <td>full</td>\n",
              "      <td>Полная занятость</td>\n",
              "      <td>fullDay</td>\n",
              "      <td>Полный день</td>\n",
              "      <td>between1And3</td>\n",
              "      <td>От 1 года до 3 лет</td>\n",
              "      <td>NaN</td>\n",
              "      <td>20.396 20.287 20.490 29.510 29.162 29.552</td>\n",
              "      <td>Строительство, недвижимость - Эксплуатация | С...</td>\n",
              "      <td>Обязанности:  Выполнение слесарной обработки п...</td>\n",
              "      <td>обязанность выполнение слесарная обработка пов...</td>\n",
              "      <td>train</td>\n",
              "    </tr>\n",
              "    <tr>\n",
              "      <th>13</th>\n",
              "      <td>15</td>\n",
              "      <td>17762519</td>\n",
              "      <td>Оператор станков с ЧПУ</td>\n",
              "      <td>оператор станок чпу</td>\n",
              "      <td>Санкт-Петербург</td>\n",
              "      <td>unknown</td>\n",
              "      <td>735232</td>\n",
              "      <td>1000 КАДРОВ</td>\n",
              "      <td>https://hh.ru/employer/735232</td>\n",
              "      <td>2016-07-15T15:29:03+0300</td>\n",
              "      <td>46000.0</td>\n",
              "      <td>RUR</td>\n",
              "      <td>full</td>\n",
              "      <td>Полная занятость</td>\n",
              "      <td>fullDay</td>\n",
              "      <td>Полный день</td>\n",
              "      <td>between1And3</td>\n",
              "      <td>От 1 года до 3 лет</td>\n",
              "      <td>NaN</td>\n",
              "      <td>18.142 18.16 29.553</td>\n",
              "      <td>Производство - Машиностроение | Производство -...</td>\n",
              "      <td>ОЧЕНЬ СРОЧНО в иностранную производственную ко...</td>\n",
              "      <td>срочно иностранный производственный компания т...</td>\n",
              "      <td>train</td>\n",
              "    </tr>\n",
              "    <tr>\n",
              "      <th>14</th>\n",
              "      <td>17</td>\n",
              "      <td>17375711</td>\n",
              "      <td>Оператор производственной линии</td>\n",
              "      <td>оператор производственный линия</td>\n",
              "      <td>Санкт-Петербург</td>\n",
              "      <td>unknown</td>\n",
              "      <td>735232</td>\n",
              "      <td>1000 КАДРОВ</td>\n",
              "      <td>https://hh.ru/employer/735232</td>\n",
              "      <td>2016-06-10T18:08:09+0300</td>\n",
              "      <td>27000.0</td>\n",
              "      <td>RUR</td>\n",
              "      <td>full</td>\n",
              "      <td>Полная занятость</td>\n",
              "      <td>fullDay</td>\n",
              "      <td>Полный день</td>\n",
              "      <td>between1And3</td>\n",
              "      <td>От 1 года до 3 лет</td>\n",
              "      <td>NaN</td>\n",
              "      <td>29.556 29.517 29.549 29.553 18.174 18.16</td>\n",
              "      <td>Рабочий персонал - Разнорабочий | Рабочий перс...</td>\n",
              "      <td>Обязанности:  сборка изделий на конвейерной ли...</td>\n",
              "      <td>обязанность сборка изделие конвейерный линия к...</td>\n",
              "      <td>train</td>\n",
              "    </tr>\n",
              "    <tr>\n",
              "      <th>15</th>\n",
              "      <td>18</td>\n",
              "      <td>17494294</td>\n",
              "      <td>Менеджер по туризму</td>\n",
              "      <td>менеджер туризм</td>\n",
              "      <td>Санкт-Петербург</td>\n",
              "      <td>unknown</td>\n",
              "      <td>1853388</td>\n",
              "      <td>1001 Тур</td>\n",
              "      <td>https://hh.ru/employer/1853388</td>\n",
              "      <td>2016-07-22T14:12:40+0300</td>\n",
              "      <td>35000.0</td>\n",
              "      <td>RUR</td>\n",
              "      <td>full</td>\n",
              "      <td>Полная занятость</td>\n",
              "      <td>fullDay</td>\n",
              "      <td>Полный день</td>\n",
              "      <td>between1And3</td>\n",
              "      <td>От 1 года до 3 лет</td>\n",
              "      <td>NaN</td>\n",
              "      <td>22.223 22.39 22.199 17.242 17.149</td>\n",
              "      <td>Туризм, гостиницы, рестораны - Продажа туристи...</td>\n",
              "      <td>В связи с расширением, крупнейшая Сеть \"1001 т...</td>\n",
              "      <td>связь расширение крупный сеть тур приглашать к...</td>\n",
              "      <td>train</td>\n",
              "    </tr>\n",
              "    <tr>\n",
              "      <th>16</th>\n",
              "      <td>19</td>\n",
              "      <td>17784559</td>\n",
              "      <td>Менеджер по продажам шин и дисков, масел, АКБ</td>\n",
              "      <td>менеджер продажа шина диск масло акб</td>\n",
              "      <td>Санкт-Петербург</td>\n",
              "      <td>NaN</td>\n",
              "      <td>1650086</td>\n",
              "      <td>1001 Шина</td>\n",
              "      <td>https://hh.ru/employer/1650086</td>\n",
              "      <td>2016-08-15T15:12:42+0300</td>\n",
              "      <td>40000.0</td>\n",
              "      <td>RUR</td>\n",
              "      <td>full</td>\n",
              "      <td>Полная занятость</td>\n",
              "      <td>fullDay</td>\n",
              "      <td>Полный день</td>\n",
              "      <td>between3And6</td>\n",
              "      <td>От 3 до 6 лет</td>\n",
              "      <td>Активные продажи | Холодные продажи | Работа в...</td>\n",
              "      <td>7.14 7.222 7.455 17.306 17.149 17.538</td>\n",
              "      <td>Автомобильный бизнес - Автозапчасти | Автомоби...</td>\n",
              "      <td>Менеджер по продажам грузовых шин.Вакансия тол...</td>\n",
              "      <td>менеджер продажа грузовой шина вакансия активн...</td>\n",
              "      <td>train</td>\n",
              "    </tr>\n",
              "    <tr>\n",
              "      <th>17</th>\n",
              "      <td>20</td>\n",
              "      <td>17786535</td>\n",
              "      <td>Менеджер по работе с клиентами</td>\n",
              "      <td>менеджер работа клиент</td>\n",
              "      <td>Санкт-Петербург</td>\n",
              "      <td>поселок Ленсоветовский</td>\n",
              "      <td>1650086</td>\n",
              "      <td>1001 Шина</td>\n",
              "      <td>https://hh.ru/employer/1650086</td>\n",
              "      <td>2016-07-18T18:01:58+0300</td>\n",
              "      <td>20000.0</td>\n",
              "      <td>RUR</td>\n",
              "      <td>full</td>\n",
              "      <td>Полная занятость</td>\n",
              "      <td>flexible</td>\n",
              "      <td>Гибкий график</td>\n",
              "      <td>noExperience</td>\n",
              "      <td>Нет опыта</td>\n",
              "      <td>Холодные звонки | Холодные продажи | Ведение п...</td>\n",
              "      <td>7.222 7.455 17.242 17.149 3.148</td>\n",
              "      <td>Автомобильный бизнес - Продажа | Автомобильный...</td>\n",
              "      <td>Менеджер по работе с клиентамиТребования:  хол...</td>\n",
              "      <td>менеджер работа клиентамитребование холодный з...</td>\n",
              "      <td>train</td>\n",
              "    </tr>\n",
              "    <tr>\n",
              "      <th>18</th>\n",
              "      <td>21</td>\n",
              "      <td>17316090</td>\n",
              "      <td>Менеджер по продажам шин и дисков, масел, АКБ</td>\n",
              "      <td>менеджер продажа шина диск масло акб</td>\n",
              "      <td>Санкт-Петербург</td>\n",
              "      <td>NaN</td>\n",
              "      <td>1650086</td>\n",
              "      <td>1001 Шина</td>\n",
              "      <td>https://hh.ru/employer/1650086</td>\n",
              "      <td>2016-06-06T21:46:37+0300</td>\n",
              "      <td>40000.0</td>\n",
              "      <td>RUR</td>\n",
              "      <td>full</td>\n",
              "      <td>Полная занятость</td>\n",
              "      <td>fullDay</td>\n",
              "      <td>Полный день</td>\n",
              "      <td>between3And6</td>\n",
              "      <td>От 3 до 6 лет</td>\n",
              "      <td>Активные продажи | Холодные продажи | Работа в...</td>\n",
              "      <td>7.14 7.222 7.455 17.306 17.149 17.538</td>\n",
              "      <td>Автомобильный бизнес - Автозапчасти | Автомоби...</td>\n",
              "      <td>Менеджер по продажам грузовых шин.Вакансия тол...</td>\n",
              "      <td>менеджер продажа грузовой шина вакансия активн...</td>\n",
              "      <td>train</td>\n",
              "    </tr>\n",
              "    <tr>\n",
              "      <th>19</th>\n",
              "      <td>23</td>\n",
              "      <td>17607959</td>\n",
              "      <td>Специалист по таргетированной рекламе / Трафик...</td>\n",
              "      <td>специалист таргетировать реклама трафик менеджер</td>\n",
              "      <td>Санкт-Петербург</td>\n",
              "      <td>Санкт-Петербург</td>\n",
              "      <td>1657429</td>\n",
              "      <td>123 Софтвер</td>\n",
              "      <td>https://hh.ru/employer/1657429</td>\n",
              "      <td>2016-07-31T19:35:29+0300</td>\n",
              "      <td>80000.0</td>\n",
              "      <td>RUR</td>\n",
              "      <td>full</td>\n",
              "      <td>Полная занятость</td>\n",
              "      <td>fullDay</td>\n",
              "      <td>Полный день</td>\n",
              "      <td>between1And3</td>\n",
              "      <td>От 1 года до 3 лет</td>\n",
              "      <td>NaN</td>\n",
              "      <td>3.318 3.8 3.90</td>\n",
              "      <td>Маркетинг, реклама, PR - Управление маркетинго...</td>\n",
              "      <td>Представительству международной финансовой ком...</td>\n",
              "      <td>представительство международный финансовый ком...</td>\n",
              "      <td>train</td>\n",
              "    </tr>\n",
              "  </tbody>\n",
              "</table>\n",
              "</div>"
            ],
            "text/plain": [
              "    index        id  ...                                   description.lemm   type\n",
              "0       0  17686451  ...  обязанность работа турист физический юридическ...  train\n",
              "1       1  17840390  ...  вакансия открывать рамка отдел строительный от...  train\n",
              "2       3  17665840  ...  обязанность работа рамка отдел корпоративный п...  train\n",
              "3       4  17914658  ...  обязанность бронирование выписка авиабилет сис...  train\n",
              "4       5  17665632  ...  обязанность ведение бухгалтерский налоговый уч...  train\n",
              "5       6  17118641  ...  обязанность разработка сайт компания интеграци...  train\n",
              "6       7  16795167  ...  обязанность ведение бухгалтерский налоговый уч...  train\n",
              "7       8  17274713  ...  обязанность прием заявка корпоративный клиент ...  train\n",
              "8       9  17257258  ...  обязанность составление смета ремонтный отдело...  train\n",
              "9      10  17878663  ...  сеть магазин детский подростковый обувь туфель...  train\n",
              "10     11  17859408  ...  обязанность организация работа предпродажный п...  train\n",
              "11     12  17859099  ...  обязанность развозить товар маршрут забирать г...  train\n",
              "12     13  17764390  ...  обязанность выполнение слесарная обработка пов...  train\n",
              "13     15  17762519  ...  срочно иностранный производственный компания т...  train\n",
              "14     17  17375711  ...  обязанность сборка изделие конвейерный линия к...  train\n",
              "15     18  17494294  ...  связь расширение крупный сеть тур приглашать к...  train\n",
              "16     19  17784559  ...  менеджер продажа грузовой шина вакансия активн...  train\n",
              "17     20  17786535  ...  менеджер работа клиентамитребование холодный з...  train\n",
              "18     21  17316090  ...  менеджер продажа грузовой шина вакансия активн...  train\n",
              "19     23  17607959  ...  представительство международный финансовый ком...  train\n",
              "\n",
              "[20 rows x 24 columns]"
            ]
          },
          "metadata": {
            "tags": []
          },
          "execution_count": 4
        }
      ]
    },
    {
      "cell_type": "code",
      "metadata": {
        "id": "LQQG3JFkGu3n",
        "colab_type": "code",
        "colab": {
          "base_uri": "https://localhost:8080/",
          "height": 34
        },
        "outputId": "3af3081a-f478-4233-96d4-8ccee9f03e0f"
      },
      "source": [
        "df_salaries500k.shape"
      ],
      "execution_count": 5,
      "outputs": [
        {
          "output_type": "execute_result",
          "data": {
            "text/plain": [
              "(100001, 24)"
            ]
          },
          "metadata": {
            "tags": []
          },
          "execution_count": 5
        }
      ]
    },
    {
      "cell_type": "code",
      "metadata": {
        "id": "DnmdXsWu68DN",
        "colab_type": "code",
        "colab": {
          "base_uri": "https://localhost:8080/",
          "height": 284
        },
        "outputId": "8cdc1a16-ecab-4a27-b871-826b6a18ae0d"
      },
      "source": [
        "df_salaries500k.describe()"
      ],
      "execution_count": 6,
      "outputs": [
        {
          "output_type": "execute_result",
          "data": {
            "text/html": [
              "<div>\n",
              "<style scoped>\n",
              "    .dataframe tbody tr th:only-of-type {\n",
              "        vertical-align: middle;\n",
              "    }\n",
              "\n",
              "    .dataframe tbody tr th {\n",
              "        vertical-align: top;\n",
              "    }\n",
              "\n",
              "    .dataframe thead th {\n",
              "        text-align: right;\n",
              "    }\n",
              "</style>\n",
              "<table border=\"1\" class=\"dataframe\">\n",
              "  <thead>\n",
              "    <tr style=\"text-align: right;\">\n",
              "      <th></th>\n",
              "      <th>index</th>\n",
              "      <th>id</th>\n",
              "      <th>company.id</th>\n",
              "      <th>salary_from</th>\n",
              "    </tr>\n",
              "  </thead>\n",
              "  <tbody>\n",
              "    <tr>\n",
              "      <th>count</th>\n",
              "      <td>100001.000000</td>\n",
              "      <td>1.000010e+05</td>\n",
              "      <td>1.000010e+05</td>\n",
              "      <td>100001.000000</td>\n",
              "    </tr>\n",
              "    <tr>\n",
              "      <th>mean</th>\n",
              "      <td>76069.849732</td>\n",
              "      <td>2.029259e+07</td>\n",
              "      <td>1.066682e+06</td>\n",
              "      <td>41048.389456</td>\n",
              "    </tr>\n",
              "    <tr>\n",
              "      <th>std</th>\n",
              "      <td>43601.886944</td>\n",
              "      <td>2.733736e+06</td>\n",
              "      <td>9.670595e+05</td>\n",
              "      <td>21801.077872</td>\n",
              "    </tr>\n",
              "    <tr>\n",
              "      <th>min</th>\n",
              "      <td>0.000000</td>\n",
              "      <td>4.140466e+06</td>\n",
              "      <td>6.000000e+00</td>\n",
              "      <td>15.000000</td>\n",
              "    </tr>\n",
              "    <tr>\n",
              "      <th>25%</th>\n",
              "      <td>37551.000000</td>\n",
              "      <td>1.771999e+07</td>\n",
              "      <td>8.305600e+04</td>\n",
              "      <td>28750.000000</td>\n",
              "    </tr>\n",
              "    <tr>\n",
              "      <th>50%</th>\n",
              "      <td>76457.000000</td>\n",
              "      <td>2.005649e+07</td>\n",
              "      <td>9.111140e+05</td>\n",
              "      <td>35000.000000</td>\n",
              "    </tr>\n",
              "    <tr>\n",
              "      <th>75%</th>\n",
              "      <td>114888.000000</td>\n",
              "      <td>2.369521e+07</td>\n",
              "      <td>1.880360e+06</td>\n",
              "      <td>50000.000000</td>\n",
              "    </tr>\n",
              "    <tr>\n",
              "      <th>max</th>\n",
              "      <td>150866.000000</td>\n",
              "      <td>2.433712e+07</td>\n",
              "      <td>3.553214e+06</td>\n",
              "      <td>400000.000000</td>\n",
              "    </tr>\n",
              "  </tbody>\n",
              "</table>\n",
              "</div>"
            ],
            "text/plain": [
              "               index            id    company.id    salary_from\n",
              "count  100001.000000  1.000010e+05  1.000010e+05  100001.000000\n",
              "mean    76069.849732  2.029259e+07  1.066682e+06   41048.389456\n",
              "std     43601.886944  2.733736e+06  9.670595e+05   21801.077872\n",
              "min         0.000000  4.140466e+06  6.000000e+00      15.000000\n",
              "25%     37551.000000  1.771999e+07  8.305600e+04   28750.000000\n",
              "50%     76457.000000  2.005649e+07  9.111140e+05   35000.000000\n",
              "75%    114888.000000  2.369521e+07  1.880360e+06   50000.000000\n",
              "max    150866.000000  2.433712e+07  3.553214e+06  400000.000000"
            ]
          },
          "metadata": {
            "tags": []
          },
          "execution_count": 6
        }
      ]
    },
    {
      "cell_type": "code",
      "metadata": {
        "id": "PKc6KsJln0BJ",
        "colab_type": "code",
        "colab": {
          "base_uri": "https://localhost:8080/",
          "height": 134
        },
        "outputId": "946ae32c-c9dc-40a8-ab83-e93a1a9df37f"
      },
      "source": [
        "df_salaries500k.columns"
      ],
      "execution_count": 7,
      "outputs": [
        {
          "output_type": "execute_result",
          "data": {
            "text/plain": [
              "Index(['index', 'id', 'name', 'name.lemm', 'area.name', 'city', 'company.id',\n",
              "       'company', 'company_link', 'publication_date', 'salary_from',\n",
              "       'salary_currency', 'employment', 'employment.name', 'schedule',\n",
              "       'schedule.name', 'experience', 'experience.name', 'key_skills',\n",
              "       'specializations', 'specializations.names', 'description',\n",
              "       'description.lemm', 'type'],\n",
              "      dtype='object')"
            ]
          },
          "metadata": {
            "tags": []
          },
          "execution_count": 7
        }
      ]
    },
    {
      "cell_type": "code",
      "metadata": {
        "id": "szodoJG8bBuE",
        "colab_type": "code",
        "colab": {
          "base_uri": "https://localhost:8080/",
          "height": 34
        },
        "outputId": "f2a60f4b-ad90-4b75-ccab-c5cd327d820e"
      },
      "source": [
        "#посморим сколько у нас валют\n",
        "df_salaries500k['salary_currency'].nunique()"
      ],
      "execution_count": 8,
      "outputs": [
        {
          "output_type": "execute_result",
          "data": {
            "text/plain": [
              "1"
            ]
          },
          "metadata": {
            "tags": []
          },
          "execution_count": 8
        }
      ]
    },
    {
      "cell_type": "markdown",
      "metadata": {
        "id": "2UKBc82Fn-vo",
        "colab_type": "text"
      },
      "source": [
        "хорошая новость, зарплаты у нас все в рублях. заморачиваться по переводу зарплат в других валютах нет."
      ]
    },
    {
      "cell_type": "code",
      "metadata": {
        "id": "_VyU1WZVoHdx",
        "colab_type": "code",
        "colab": {}
      },
      "source": [
        "#регулярное выражение с помощью которого будет токенизировать колонку description\n",
        "TOKEN_RE = re.compile(r'[\\w\\d]+')  #regular expression to start with"
      ],
      "execution_count": 9,
      "outputs": []
    },
    {
      "cell_type": "code",
      "metadata": {
        "id": "y-4q1ZkmoZv9",
        "colab_type": "code",
        "colab": {}
      },
      "source": [
        "def tokenize_text_simple_regex(txt, min_token_size=4):\n",
        "    \"\"\" This func tokenize text with TOKEN_RE applied ealier \"\"\"\n",
        "    txt = txt.lower()\n",
        "    all_tokens = TOKEN_RE.findall(txt)\n",
        "    return [token for token in all_tokens if len(token) >= min_token_size]"
      ],
      "execution_count": 10,
      "outputs": []
    },
    {
      "cell_type": "code",
      "metadata": {
        "id": "RjzsnIeeofY3",
        "colab_type": "code",
        "colab": {}
      },
      "source": [
        "#divide dataset to train and test\n",
        "\n",
        "X_train, X_val, y_train, y_val=train_test_split(df_salaries500k['description.lemm'],\\\n",
        "                                                df_salaries500k['salary_from'], test_size=0.6,random_state=RS)"
      ],
      "execution_count": 11,
      "outputs": []
    },
    {
      "cell_type": "code",
      "metadata": {
        "id": "_FTT6Bj3bCem",
        "colab_type": "code",
        "colab": {}
      },
      "source": [
        "sklearn_pipeline = Pipeline((('vect', TfidfVectorizer(tokenizer=tokenize_text_simple_regex,\n",
        "                                                      max_df=0.95,\n",
        "                                                      min_df=5)),\n",
        "                             ('cls', RandomForestRegressor(n_estimators=100,max_depth=40,n_jobs=-1, \\\n",
        "                                                  verbose=True,random_state=RS))),\n",
        "                            verbose=True)"
      ],
      "execution_count": 12,
      "outputs": []
    },
    {
      "cell_type": "code",
      "metadata": {
        "id": "akUp_vQqpdWz",
        "colab_type": "code",
        "colab": {
          "base_uri": "https://localhost:8080/",
          "height": 101
        },
        "outputId": "781d679b-5d06-432c-932a-c9366b641998"
      },
      "source": [
        "sklearn_pipeline.fit(X_train,y_train);"
      ],
      "execution_count": 13,
      "outputs": [
        {
          "output_type": "stream",
          "text": [
            "[Pipeline] .............. (step 1 of 2) Processing vect, total=   3.9s\n"
          ],
          "name": "stdout"
        },
        {
          "output_type": "stream",
          "text": [
            "[Parallel(n_jobs=-1)]: Using backend ThreadingBackend with 4 concurrent workers.\n",
            "[Parallel(n_jobs=-1)]: Done  42 tasks      | elapsed:  9.7min\n"
          ],
          "name": "stderr"
        },
        {
          "output_type": "stream",
          "text": [
            "[Pipeline] ............... (step 2 of 2) Processing cls, total=22.1min\n"
          ],
          "name": "stdout"
        },
        {
          "output_type": "stream",
          "text": [
            "[Parallel(n_jobs=-1)]: Done 100 out of 100 | elapsed: 22.1min finished\n"
          ],
          "name": "stderr"
        }
      ]
    },
    {
      "cell_type": "code",
      "metadata": {
        "id": "8M1QilebpRgY",
        "colab_type": "code",
        "colab": {
          "base_uri": "https://localhost:8080/",
          "height": 84
        },
        "outputId": "788f4711-4190-4a08-e69e-014c2d3ef2f4"
      },
      "source": [
        "print('Скор на трейне',sklearn_pipeline.score(X_train, y_train))\n"
      ],
      "execution_count": 14,
      "outputs": [
        {
          "output_type": "stream",
          "text": [
            "[Parallel(n_jobs=4)]: Using backend ThreadingBackend with 4 concurrent workers.\n",
            "[Parallel(n_jobs=4)]: Done  42 tasks      | elapsed:    0.3s\n"
          ],
          "name": "stderr"
        },
        {
          "output_type": "stream",
          "text": [
            "Скор на трейне 0.8864883888743993\n"
          ],
          "name": "stdout"
        },
        {
          "output_type": "stream",
          "text": [
            "[Parallel(n_jobs=4)]: Done 100 out of 100 | elapsed:    0.7s finished\n"
          ],
          "name": "stderr"
        }
      ]
    },
    {
      "cell_type": "code",
      "metadata": {
        "id": "EXAuTCCZpSHT",
        "colab_type": "code",
        "colab": {
          "base_uri": "https://localhost:8080/",
          "height": 84
        },
        "outputId": "9f2d4ae4-b792-41d5-b11f-055155e835c5"
      },
      "source": [
        "print('Скор по валидации',sklearn_pipeline.score(X_val, y_val))"
      ],
      "execution_count": 15,
      "outputs": [
        {
          "output_type": "stream",
          "text": [
            "[Parallel(n_jobs=4)]: Using backend ThreadingBackend with 4 concurrent workers.\n",
            "[Parallel(n_jobs=4)]: Done  42 tasks      | elapsed:    0.4s\n"
          ],
          "name": "stderr"
        },
        {
          "output_type": "stream",
          "text": [
            "Скор по валидации 0.4969320918563146\n"
          ],
          "name": "stdout"
        },
        {
          "output_type": "stream",
          "text": [
            "[Parallel(n_jobs=4)]: Done 100 out of 100 | elapsed:    1.0s finished\n"
          ],
          "name": "stderr"
        }
      ]
    },
    {
      "cell_type": "code",
      "metadata": {
        "id": "kFnVQissxc29",
        "colab_type": "code",
        "colab": {
          "base_uri": "https://localhost:8080/",
          "height": 118
        },
        "outputId": "349906a4-2e07-40e9-f5c6-510fa95a3755"
      },
      "source": [
        "from sklearn.metrics import mean_absolute_error  #for metric of our model\n",
        "#let s make prediction\n",
        "prediction = sklearn_pipeline.predict(X_val[-1:])\n",
        "print(X_val[-1:])\n",
        "print(prediction)"
      ],
      "execution_count": 16,
      "outputs": [
        {
          "output_type": "stream",
          "text": [
            "46017    обязанность помощь консультация покупатель тор...\n",
            "Name: description.lemm, dtype: object\n",
            "[25966.24406819]\n"
          ],
          "name": "stdout"
        },
        {
          "output_type": "stream",
          "text": [
            "[Parallel(n_jobs=4)]: Using backend ThreadingBackend with 4 concurrent workers.\n",
            "[Parallel(n_jobs=4)]: Done  42 tasks      | elapsed:    0.0s\n",
            "[Parallel(n_jobs=4)]: Done 100 out of 100 | elapsed:    0.0s finished\n"
          ],
          "name": "stderr"
        }
      ]
    },
    {
      "cell_type": "code",
      "metadata": {
        "id": "i3SW2KCTyCzD",
        "colab_type": "code",
        "colab": {
          "base_uri": "https://localhost:8080/",
          "height": 34
        },
        "outputId": "229906bd-c047-42ca-9022-260777e8975e"
      },
      "source": [
        "err = mean_absolute_error(prediction, y_val.iloc[-1:])\n",
        "print(err)"
      ],
      "execution_count": 17,
      "outputs": [
        {
          "output_type": "stream",
          "text": [
            "33.75593180752912\n"
          ],
          "name": "stdout"
        }
      ]
    },
    {
      "cell_type": "code",
      "metadata": {
        "id": "yeD0wMsAySYp",
        "colab_type": "code",
        "colab": {}
      },
      "source": [
        "таким образом мы предсказали зп в 25966 руб и ошиблись на 33 рубля.\n",
        "Не плохо для нашала."
      ],
      "execution_count": null,
      "outputs": []
    },
    {
      "cell_type": "code",
      "metadata": {
        "id": "o-nR1Qecyekv",
        "colab_type": "code",
        "colab": {
          "base_uri": "https://localhost:8080/",
          "height": 84
        },
        "outputId": "b2568b8c-a915-46b9-8209-b57b2f52ae7c"
      },
      "source": [
        "#let s see error on train and validation\n",
        "print('Error on train is ',mean_absolute_error(sklearn_pipeline.predict(X_train),y_train))"
      ],
      "execution_count": 20,
      "outputs": [
        {
          "output_type": "stream",
          "text": [
            "[Parallel(n_jobs=4)]: Using backend ThreadingBackend with 4 concurrent workers.\n",
            "[Parallel(n_jobs=4)]: Done  42 tasks      | elapsed:    0.3s\n"
          ],
          "name": "stderr"
        },
        {
          "output_type": "stream",
          "text": [
            "Error on train is  5063.231661892254\n"
          ],
          "name": "stdout"
        },
        {
          "output_type": "stream",
          "text": [
            "[Parallel(n_jobs=4)]: Done 100 out of 100 | elapsed:    0.7s finished\n"
          ],
          "name": "stderr"
        }
      ]
    },
    {
      "cell_type": "code",
      "metadata": {
        "id": "wu8K85lpePuB",
        "colab_type": "code",
        "colab": {
          "base_uri": "https://localhost:8080/",
          "height": 84
        },
        "outputId": "aca92cbf-6243-4162-96b9-0d05799e564d"
      },
      "source": [
        "print('Error on validation is ',mean_absolute_error(sklearn_pipeline.predict(X_val),y_val))"
      ],
      "execution_count": 21,
      "outputs": [
        {
          "output_type": "stream",
          "text": [
            "[Parallel(n_jobs=4)]: Using backend ThreadingBackend with 4 concurrent workers.\n",
            "[Parallel(n_jobs=4)]: Done  42 tasks      | elapsed:    0.4s\n"
          ],
          "name": "stderr"
        },
        {
          "output_type": "stream",
          "text": [
            "Error on validation is  9309.938131664589\n"
          ],
          "name": "stdout"
        },
        {
          "output_type": "stream",
          "text": [
            "[Parallel(n_jobs=4)]: Done 100 out of 100 | elapsed:    1.0s finished\n"
          ],
          "name": "stderr"
        }
      ]
    },
    {
      "cell_type": "markdown",
      "metadata": {
        "id": "HieL57iIzGfu",
        "colab_type": "text"
      },
      "source": [
        "ошибка расчитанная по всему трейну 5063 руб,\n",
        "по валидации 9309 руб. Слабовато. Нужно работать!"
      ]
    },
    {
      "cell_type": "code",
      "metadata": {
        "id": "J4l3ELTHzQLh",
        "colab_type": "code",
        "colab": {}
      },
      "source": [
        "#сохраним модель для испльзования на сервере\n",
        "import pickle\n",
        "filename = 'model_trud01.pickle'\n",
        "pickle.dump(sklearn_pipeline, open(filename, 'wb'))\n",
        "\n",
        "# This is example of code how to load saved model\n",
        "# load the model from disk\n",
        "# loaded_model = pickle.load(open(filename, 'rb'))\n",
        "# prediction = loaded_model.predict(X_test)\n",
        "# print(prediction)\n"
      ],
      "execution_count": 22,
      "outputs": []
    },
    {
      "cell_type": "code",
      "metadata": {
        "id": "NAWyCKWveQBT",
        "colab_type": "code",
        "colab": {}
      },
      "source": [
        ""
      ],
      "execution_count": null,
      "outputs": []
    },
    {
      "cell_type": "code",
      "metadata": {
        "id": "OUB_FHT9eQTe",
        "colab_type": "code",
        "colab": {}
      },
      "source": [
        ""
      ],
      "execution_count": null,
      "outputs": []
    },
    {
      "cell_type": "code",
      "metadata": {
        "id": "0g8HIW15eQma",
        "colab_type": "code",
        "colab": {
          "base_uri": "https://localhost:8080/",
          "height": 34
        },
        "outputId": "0d1e3ea3-bf99-44cc-b70c-abe387de4d0f"
      },
      "source": [
        "!ls"
      ],
      "execution_count": 23,
      "outputs": [
        {
          "output_type": "stream",
          "text": [
            "gdrive\tmodel_trud01.pickle  sample_data\n"
          ],
          "name": "stdout"
        }
      ]
    },
    {
      "cell_type": "code",
      "metadata": {
        "id": "qvkr0ofYUAOj",
        "colab_type": "code",
        "colab": {}
      },
      "source": [
        "df_predictions.to_csv('sample_predictions.csv', index_label='fire_id')\n",
        "#df_predictions.to_csv('data/sample_predictions.csv', index_label='fire_id')"
      ],
      "execution_count": null,
      "outputs": []
    },
    {
      "cell_type": "code",
      "metadata": {
        "id": "JVLQKiCTUGnn",
        "colab_type": "code",
        "colab": {}
      },
      "source": [
        "from google.colab import files\n",
        "files.download('sample_predictions.csv')"
      ],
      "execution_count": null,
      "outputs": []
    },
    {
      "cell_type": "code",
      "metadata": {
        "id": "toOYYR75b_-p",
        "colab_type": "code",
        "colab": {
          "base_uri": "https://localhost:8080/",
          "height": 17
        },
        "outputId": "8c55b275-ca64-4681-d12a-c08d396b4c4f"
      },
      "source": [
        "from google.colab import files\n",
        "files.download('model_trud01.pickle')"
      ],
      "execution_count": 24,
      "outputs": [
        {
          "output_type": "display_data",
          "data": {
            "application/javascript": [
              "\n",
              "    async function download(id, filename, size) {\n",
              "      if (!google.colab.kernel.accessAllowed) {\n",
              "        return;\n",
              "      }\n",
              "      const div = document.createElement('div');\n",
              "      const label = document.createElement('label');\n",
              "      label.textContent = `Downloading \"${filename}\": `;\n",
              "      div.appendChild(label);\n",
              "      const progress = document.createElement('progress');\n",
              "      progress.max = size;\n",
              "      div.appendChild(progress);\n",
              "      document.body.appendChild(div);\n",
              "\n",
              "      const buffers = [];\n",
              "      let downloaded = 0;\n",
              "\n",
              "      const channel = await google.colab.kernel.comms.open(id);\n",
              "      // Send a message to notify the kernel that we're ready.\n",
              "      channel.send({})\n",
              "\n",
              "      for await (const message of channel.messages) {\n",
              "        // Send a message to notify the kernel that we're ready.\n",
              "        channel.send({})\n",
              "        if (message.buffers) {\n",
              "          for (const buffer of message.buffers) {\n",
              "            buffers.push(buffer);\n",
              "            downloaded += buffer.byteLength;\n",
              "            progress.value = downloaded;\n",
              "          }\n",
              "        }\n",
              "      }\n",
              "      const blob = new Blob(buffers, {type: 'application/binary'});\n",
              "      const a = document.createElement('a');\n",
              "      a.href = window.URL.createObjectURL(blob);\n",
              "      a.download = filename;\n",
              "      div.appendChild(a);\n",
              "      a.click();\n",
              "      div.remove();\n",
              "    }\n",
              "  "
            ],
            "text/plain": [
              "<IPython.core.display.Javascript object>"
            ]
          },
          "metadata": {
            "tags": []
          }
        },
        {
          "output_type": "display_data",
          "data": {
            "application/javascript": [
              "download(\"download_e060239f-a727-4f82-abe8-4ee8115eff87\", \"model_trud01.pickle\", 106573189)"
            ],
            "text/plain": [
              "<IPython.core.display.Javascript object>"
            ]
          },
          "metadata": {
            "tags": []
          }
        }
      ]
    }
  ]
}